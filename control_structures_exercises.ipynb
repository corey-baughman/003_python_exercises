{
 "cells": [
  {
   "cell_type": "code",
   "execution_count": null,
   "id": "1ba4431f",
   "metadata": {},
   "outputs": [],
   "source": []
  },
  {
   "cell_type": "code",
   "execution_count": 10,
   "id": "7bdeae5c",
   "metadata": {},
   "outputs": [
    {
     "name": "stdout",
     "output_type": "stream",
     "text": [
      "Please input what day of the week it is with first letter capitalized \n",
      "Go back and read the instructions and/or learn how to spell.\n"
     ]
    }
   ],
   "source": [
    "# Conditional Basics:\n",
    "    # a. prompt the user for a day of the week, print whether the day is Monday or not.\n",
    "    \n",
    "day_of_week = input('Please input what day of the week it is with first letter capitalized ')\n",
    "if day_of_week == 'Monday':\n",
    "    print('The day is Monday')\n",
    "elif day_of_week == 'Tuesday' \\\n",
    "or day_of_week == 'Wednesday' \\\n",
    "or day_of_week == 'Thursday' \\\n",
    "or day_of_week == 'Friday' \\\n",
    "or day_of_week == 'Saturday' \\\n",
    "or day_of_week == 'Sunday':\n",
    "    print('The day is not Monday')\n",
    "elif day_of_week == 'Suck it Trebeck':\n",
    "    print('I\\'ll take Your Mom for 200')\n",
    "else:\n",
    "    print('Go back and read the instructions and/or learn how to spell.')\n"
   ]
  },
  {
   "cell_type": "code",
   "execution_count": 15,
   "id": "774ed781",
   "metadata": {},
   "outputs": [
    {
     "name": "stdout",
     "output_type": "stream",
     "text": [
      "Please input what day of the week it is food groups\n",
      "candy, candy canes, candy corns, and syrup.\n"
     ]
    }
   ],
   "source": [
    "day_of_week = input('Please input what day of the week it is ')\n",
    "day_of_week = day_of_week.lower()\n",
    "if day_of_week == 'saturday' or day_of_week == 'sunday':\n",
    "    print(\"It's the freakin' weekend!\")\n",
    "elif \\\n",
    "day_of_week == 'monday' \\\n",
    "or day_of_week == 'tuesday' \\\n",
    "or day_of_week == 'wednesday' \\\n",
    "or day_of_week == 'thursday' \\\n",
    "or day_of_week == 'friday':\n",
    "    print('Get back to work')\n",
    "elif day_of_week == 'food groups':\n",
    "    print('candy, candy canes, candy corns, and syrup.')\n",
    "else:\n",
    "    print('Go back and read the instructions and/or learn how to spell.')\n"
   ]
  },
  {
   "cell_type": "code",
   "execution_count": 25,
   "id": "5d5f0d85",
   "metadata": {},
   "outputs": [
    {
     "name": "stdout",
     "output_type": "stream",
     "text": [
      "Input the number of hours worked in the week: 45\n",
      "Input the wage per hour (in U.S. Dollars): 10\n",
      "Total Pay For The Week Will Be: $475.00\n"
     ]
    }
   ],
   "source": [
    "    # c. Create variables and make up values for\n",
    "\n",
    "            # The number of hours worked in one week\n",
    "            # The hourly rate\n",
    "            # How much the week's paycheck will be\n",
    "        # Write the python code that calculates the weekly paycheck. \n",
    "        # You get paid time and a half if you work more than 40 hours.\n",
    "\n",
    "num_hours_worked_in_week = float(input('Input the number of hours worked in the week: '))\n",
    "hourly_wage = float(input('Input the wage per hour (in U.S. Dollars): '))\n",
    "Total_Pay_For_Week = (num_hours_worked_in_week - 40) \\\n",
    "* hourly_wage * 0.5 + num_hours_worked_in_week * hourly_wage\n",
    "print(f'Total Pay For The Week Will Be: ${Total_Pay_For_Week:.2f}')"
   ]
  },
  {
   "cell_type": "code",
   "execution_count": null,
   "id": "5ad22038",
   "metadata": {},
   "outputs": [],
   "source": [
    "# 2. Loop Basics\n",
    "    # a. While\n",
    "        # i. Create an integer variable i with a value of 5. \n",
    "            # Create a while loop that runs so long as i is less than or equal to 15. \n",
    "            # Each loop iteration, output the current value of i, then increment i by one."
   ]
  },
  {
   "cell_type": "code",
   "execution_count": 28,
   "id": "1f612eca",
   "metadata": {},
   "outputs": [
    {
     "name": "stdout",
     "output_type": "stream",
     "text": [
      "5\n",
      "6\n",
      "7\n",
      "8\n",
      "9\n",
      "10\n",
      "11\n",
      "12\n",
      "13\n",
      "14\n",
      "15\n"
     ]
    }
   ],
   "source": [
    "i = 5\n",
    "while i <= 15:\n",
    "    print(i)\n",
    "    i = i + 1\n",
    "    "
   ]
  },
  {
   "cell_type": "code",
   "execution_count": 32,
   "id": "9925c277",
   "metadata": {},
   "outputs": [
    {
     "name": "stdout",
     "output_type": "stream",
     "text": [
      "0\n",
      "2\n",
      "4\n",
      "6\n",
      "8\n",
      "10\n",
      "12\n",
      "14\n",
      "16\n",
      "18\n",
      "20\n",
      "22\n",
      "24\n",
      "26\n",
      "28\n",
      "30\n",
      "32\n",
      "34\n",
      "36\n",
      "38\n",
      "40\n",
      "42\n",
      "44\n",
      "46\n",
      "48\n",
      "50\n",
      "52\n",
      "54\n",
      "56\n",
      "58\n",
      "60\n",
      "62\n",
      "64\n",
      "66\n",
      "68\n",
      "70\n",
      "72\n",
      "74\n",
      "76\n",
      "78\n",
      "80\n",
      "82\n",
      "84\n",
      "86\n",
      "88\n",
      "90\n",
      "92\n",
      "94\n",
      "96\n",
      "98\n",
      "100\n"
     ]
    }
   ],
   "source": [
    "        # i. part deux. Create a while loop that will count by 2's starting with 0 and ending at 100. \n",
    "            # Follow each number with a new line.\n",
    "        \n",
    "i = 0\n",
    "while i <= 100:\n",
    "    print(i)\n",
    "    i = i + 2"
   ]
  },
  {
   "cell_type": "code",
   "execution_count": 33,
   "id": "5367e0b7",
   "metadata": {},
   "outputs": [
    {
     "name": "stdout",
     "output_type": "stream",
     "text": [
      "100\n",
      "95\n",
      "90\n",
      "85\n",
      "80\n",
      "75\n",
      "70\n",
      "65\n",
      "60\n",
      "55\n",
      "50\n",
      "45\n",
      "40\n",
      "35\n",
      "30\n",
      "25\n",
      "20\n",
      "15\n",
      "10\n",
      "5\n",
      "0\n",
      "-5\n",
      "-10\n"
     ]
    }
   ],
   "source": [
    "        # ii. Alter your loop to count backwards by 5's from 100 to -10\n",
    "i = 100\n",
    "while i >= -10:\n",
    "    print(i)\n",
    "    i = i - 5"
   ]
  },
  {
   "cell_type": "code",
   "execution_count": 34,
   "id": "71660ead",
   "metadata": {},
   "outputs": [
    {
     "name": "stdout",
     "output_type": "stream",
     "text": [
      "2\n",
      "4\n",
      "16\n",
      "256\n",
      "65536\n"
     ]
    }
   ],
   "source": [
    "        # iii. Create a while loop that starts at 2, and displays the \n",
    "            #number squared on each line while the number is less than 1,000,000.\n",
    "        \n",
    "i = 2\n",
    "while i < 1000000:\n",
    "    print(i)\n",
    "    i = i ** 2"
   ]
  },
  {
   "cell_type": "code",
   "execution_count": 36,
   "id": "e373dadb",
   "metadata": {},
   "outputs": [
    {
     "name": "stdout",
     "output_type": "stream",
     "text": [
      "100\n",
      "95\n",
      "90\n",
      "85\n",
      "80\n",
      "75\n",
      "70\n",
      "65\n",
      "60\n",
      "55\n",
      "50\n",
      "45\n",
      "40\n",
      "35\n",
      "30\n",
      "25\n",
      "20\n",
      "15\n",
      "10\n",
      "5\n"
     ]
    }
   ],
   "source": [
    "        # iv. Write a loop that uses print to create the output shown below.\n",
    "            # (Count from 100 to 5 by -5)\n",
    "        \n",
    "i = 100\n",
    "while i > 0:\n",
    "    print(i)\n",
    "    i = i - 5\n",
    "    "
   ]
  },
  {
   "cell_type": "code",
   "execution_count": 37,
   "id": "beb4e213",
   "metadata": {},
   "outputs": [
    {
     "ename": "IndentationError",
     "evalue": "expected an indented block (1616733668.py, line 8)",
     "output_type": "error",
     "traceback": [
      "\u001b[0;36m  Input \u001b[0;32mIn [37]\u001b[0;36m\u001b[0m\n\u001b[0;31m    print(number_to_multiply * n)\u001b[0m\n\u001b[0m    ^\u001b[0m\n\u001b[0;31mIndentationError\u001b[0m\u001b[0;31m:\u001b[0m expected an indented block\n"
     ]
    }
   ],
   "source": [
    "    # b. For Loops\n",
    "        # i. Write some code that prompts the user for a number, \n",
    "            # then shows a multiplication table up through 10 for that number.\n",
    "            \n",
    "number_to_multiply = float(input('Enter a number to multiply: '))\n",
    "print(f'Multiplication Table for {number_to_multiply}')\n",
    "for n in range(10):\n",
    "    print(number_to_multiply * n)\n",
    "    "
   ]
  },
  {
   "cell_type": "code",
   "execution_count": 42,
   "id": "26dc9b7a",
   "metadata": {},
   "outputs": [
    {
     "name": "stdout",
     "output_type": "stream",
     "text": [
      "Enter a whole number to multiply: 5\n",
      "Multiplication Table for 5\n",
      "5 x 1 = 5\n",
      "5 x 2 = 10\n",
      "5 x 3 = 15\n",
      "5 x 4 = 20\n",
      "5 x 5 = 25\n",
      "5 x 6 = 30\n",
      "5 x 7 = 35\n",
      "5 x 8 = 40\n",
      "5 x 9 = 45\n",
      "5 x 10 = 50\n"
     ]
    }
   ],
   "source": [
    "# b. For Loops\n",
    "        # i. Write some code that prompts the user for a number, \n",
    "            # then shows a multiplication table up through 10 for that number.\n",
    "            \n",
    "number_to_multiply = int(input('Enter a whole number to multiply: '))\n",
    "print(f'Multiplication Table for {number_to_multiply}')\n",
    "for n in range(1, 11):\n",
    "    print(f'{number_to_multiply} x {n} = {number_to_multiply * n}')"
   ]
  },
  {
   "cell_type": "code",
   "execution_count": 44,
   "id": "cd27c88c",
   "metadata": {},
   "outputs": [
    {
     "name": "stdout",
     "output_type": "stream",
     "text": [
      "1\n",
      "22\n",
      "333\n",
      "4444\n",
      "55555\n",
      "666666\n",
      "7777777\n",
      "88888888\n",
      "999999999\n"
     ]
    }
   ],
   "source": [
    "        # ii. Create a for loop that uses print to create the output shown below.\n",
    "    \n",
    "for n in range(1, 10):\n",
    "    print(f'{n}' * n)"
   ]
  },
  {
   "cell_type": "code",
   "execution_count": 64,
   "id": "3e52320f",
   "metadata": {},
   "outputs": [
    {
     "name": "stdout",
     "output_type": "stream",
     "text": [
      "Enter an odd integer between 1 and 50: 5\n",
      "this is a digit\n",
      "this is odd.\n",
      "this number is in range\n",
      "Here is an odd number: 1\n",
      "Here is an odd number: 3\n",
      "Yikes! Skipping number: 5\n",
      "Here is an odd number: 7\n",
      "Here is an odd number: 9\n",
      "Here is an odd number: 11\n",
      "Here is an odd number: 13\n",
      "Here is an odd number: 15\n",
      "Here is an odd number: 17\n",
      "Here is an odd number: 19\n",
      "Here is an odd number: 21\n",
      "Here is an odd number: 23\n",
      "Here is an odd number: 25\n",
      "Here is an odd number: 27\n",
      "Here is an odd number: 29\n",
      "Here is an odd number: 31\n",
      "Here is an odd number: 33\n",
      "Here is an odd number: 35\n",
      "Here is an odd number: 37\n",
      "Here is an odd number: 39\n",
      "Here is an odd number: 41\n",
      "Here is an odd number: 43\n",
      "Here is an odd number: 45\n",
      "Here is an odd number: 47\n",
      "Here is an odd number: 49\n"
     ]
    }
   ],
   "source": [
    "# iii. Prompt the user for an odd number between 1 and 50. \n",
    "            # Use a loop and a break statement to continue prompting the user if they enter invalid input. \n",
    "            # (Hint: use the isdigit method on strings to determine this). \n",
    "            # Use a loop and the continue statement to output all the odd numbers between 1 and 50, \n",
    "            # except for the number the user entered.\n",
    "\n",
    "while True:\n",
    "    odd_int_one_to_fifty = input('Enter an odd integer between 1 and 50: ')\n",
    "        \n",
    "    if odd_int_one_to_fifty.isdigit() == True:\n",
    "        print('this is a digit')\n",
    "        if int(odd_int_one_to_fifty) % 2 == 1:\n",
    "            print('this is odd.')\n",
    "            if (int(odd_int_one_to_fifty) > 1) and (int(odd_int_one_to_fifty) < 50):\n",
    "                print('this number is in range')\n",
    "                break\n",
    "\n",
    "odd_int_one_to_fifty = int(odd_int_one_to_fifty)\n",
    "\n",
    "for x in range(1,50):\n",
    "    if x == odd_int_one_to_fifty:\n",
    "        print(f'Yikes! Skipping number: {x}')\n",
    "        continue ## only necessary if I want to skip the print output\n",
    "    if x % 2 == 1:\n",
    "        print(f'Here is an odd number: {x}')"
   ]
  },
  {
   "cell_type": "code",
   "execution_count": null,
   "id": "11b67ac8",
   "metadata": {},
   "outputs": [],
   "source": [
    "# 3. Fizzbuzz\n",
    "    # One of the most common interview questions for entry-level programmers is the FizzBuzz test. \n",
    "    # Developed by Imran Ghory, the test is designed to test basic looping and conditional logic skills.\n",
    "\n",
    "    # Write a program that prints the numbers from 1 to 100.\n",
    "    # For multiples of three print \"Fizz\" instead of the number\n",
    "    # For the multiples of five print \"Buzz\".\n",
    "    # For numbers which are multiples of both three and five print \"FizzBuzz\".\n",
    "    \n"
   ]
  },
  {
   "cell_type": "code",
   "execution_count": null,
   "id": "d1c454fe",
   "metadata": {},
   "outputs": [],
   "source": [
    "# 4. Display a table of powers.\n",
    "\n",
    "    # Prompt the user to enter an integer\n",
    "    # Display a table of squares and cubes from 1 to the value entered\n",
    "    # Ask if the user wants to continue\n",
    "    # Assume that the user will enter valid data\n",
    "    # Only continue if the user agrees to"
   ]
  },
  {
   "cell_type": "code",
   "execution_count": 62,
   "id": "86289e7b",
   "metadata": {},
   "outputs": [
    {
     "name": "stdout",
     "output_type": "stream",
     "text": [
      "Enter the numerical grade from 0-100:\n",
      "50\n",
      "F\n"
     ]
    }
   ],
   "source": [
    "# 5. Convert given number grades into letter grades.\n",
    "\n",
    "    # Prompt the user for a numerical grade from 0 to 100\n",
    "    # Display the corresponding letter grade\n",
    "    # Prompt the user to continue\n",
    "    # Assume that the user will enter valid integers for the grades\n",
    "    # The application should only continue if the user agrees to\n",
    "    # Grade Ranges:\n",
    "\n",
    "        # A : 100 - 88\n",
    "        # B : 87 - 80\n",
    "        # C : 79 - 67\n",
    "        # D : 66 - 60\n",
    "        # F : 59 - 0\n",
    "\n",
    "while True:\n",
    "        \n",
    "    user_grade = int(input('Enter the numerical grade from 0-100:\\n'))\n",
    "\n",
    "    if user_grade >= 88:\n",
    "        print('A')\n",
    "    elif user_grade >= 80:\n",
    "        print('B')\n",
    "    elif user_grade >= 67:\n",
    "        print('C')\n",
    "    elif user_grade >= 60:\n",
    "        print('D')\n",
    "    else:\n",
    "        print('F')\n",
    "        \n",
    "    user_response = input('Would you like to continue? (y/n)\\n')\n",
    "    ## Compare the lower case version of the string\n",
    "    \n",
    "    # Check if the response is not yes\n",
    "    \n",
    "    if user_response.lower() != 'y'\n",
    "    "
   ]
  },
  {
   "cell_type": "code",
   "execution_count": 65,
   "id": "62df39c3",
   "metadata": {},
   "outputs": [],
   "source": [
    "# 6. Create a list of dictionaries where each dictionary represents a book that you have read. \n",
    "    # Each dictionary in the list should have the keys title, author, and genre. \n",
    "    # Loop through the list and print out information about each book.\n",
    "\n",
    "    # a. Prompt the user to enter a genre, then loop through your books list and print out the titles \n",
    "        # of all the books in that genre.\n",
    "        \n",
    "Books_Read = [{'title': 'Parable of the Sower', 'author': 'Octavia Butler', 'genre': 'Sci-Fi'},\n",
    "             {'title': 'Parable of the Talents', 'author': 'Octavia Butler', 'genre': 'Sci-Fi'},\n",
    "             {'title': 'Snow Crash', 'author': 'Neal Stephenson', 'genre': 'Sci-Fi'},\n",
    "             {'title': 'Cryptonomicon', 'author': 'Neal Stephenson', 'genre': 'Sci-Fi'},\n",
    "             {'title': 'Seveneves', 'author': 'Neal Stephenson', 'genre': 'Sci-Fi'},\n",
    "              {'title': 'Reamde', 'author': 'Neal Stephenson', 'genre': 'Sci-Fi'},\n",
    "              {'title': 'The Martian', 'author': 'Andy Weir', 'genre': 'Sci-Fi'},\n",
    "              {'title': 'Project Hail Mary', 'author': 'Andy Weir', 'genre': 'Sci-Fi'},\n",
    "              {'title': 'The Martian', 'author': 'Andy Weir', 'genre': 'Sci-Fi'},\n",
    "              {'title': 'Blade Runner', 'author': 'Philip K. Dick', 'genre': 'Sci-Fi'},\n",
    "              {'title': 'Termination Shock', 'author': 'Niel Stephenson', 'genre': 'Sci-Fi'},\n",
    "              {'title': 'Stories of Your Life', 'author': 'Ted Chiang', 'genre': 'Sci-Fi'},\n",
    "              {'title': 'Exhalation', 'author': 'Ted Chiang', 'genre': 'Sci-Fi'}\n",
    "             ]\n"
   ]
  },
  {
   "cell_type": "code",
   "execution_count": null,
   "id": "6d3cd183",
   "metadata": {},
   "outputs": [],
   "source": []
  },
  {
   "cell_type": "code",
   "execution_count": null,
   "id": "080b7bfb",
   "metadata": {},
   "outputs": [],
   "source": []
  }
 ],
 "metadata": {
  "kernelspec": {
   "display_name": "Python 3 (ipykernel)",
   "language": "python",
   "name": "python3"
  },
  "language_info": {
   "codemirror_mode": {
    "name": "ipython",
    "version": 3
   },
   "file_extension": ".py",
   "mimetype": "text/x-python",
   "name": "python",
   "nbconvert_exporter": "python",
   "pygments_lexer": "ipython3",
   "version": "3.9.13"
  }
 },
 "nbformat": 4,
 "nbformat_minor": 5
}
