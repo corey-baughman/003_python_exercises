{
 "cells": [
  {
   "cell_type": "markdown",
   "id": "cacfefef",
   "metadata": {},
   "source": [
    "## Objectives\n",
    "\n",
    "\n",
    "- Gain familiarity with Jupyter notebooks\n",
    "- Use and manipulate various data types\n",
    "- Create, assign, and update variables\n",
    "- Represent information with data types\n",
    "- Use Boolean operators \n",
    "- Create and modify strings with string methods\n",
    "- Create tuples\n",
    "- Create dictionaries\n",
    "\n",
    "[Reference](https://ds.codeup.com/python/data-types-and-variables/)"
   ]
  },
  {
   "cell_type": "markdown",
   "id": "dc431b96",
   "metadata": {},
   "source": [
    "#### ---\n",
    "## Data Types\n",
    "\n",
    "\n",
    "| Data type | Description |\n",
    "|:-: |----------|\n",
    "| `bool`|   Boolean values (True or False) |\n",
    "| `str`  |  whole, or counting numbers |\n",
    "| `float`|  decimal numbers |\n",
    "| `list`| an ordered sequence of objects |\n",
    "| `dict`| a collection of named values\n",
    "| `NoneType` |  indicates absence of a value\n"
   ]
  },
  {
   "cell_type": "markdown",
   "id": "159fb5e4",
   "metadata": {},
   "source": [
    "\n",
    "###  `type` function\n",
    "\n",
    "Returns the data type of an object. \n",
    "\n",
    "```python\n",
    "type(object)\n",
    "```\n",
    "\n"
   ]
  },
  {
   "cell_type": "markdown",
   "id": "f94c0b8a",
   "metadata": {},
   "source": [
    "### Examples"
   ]
  },
  {
   "cell_type": "code",
   "execution_count": 1,
   "id": "b4405224",
   "metadata": {},
   "outputs": [
    {
     "data": {
      "text/plain": [
       "int"
      ]
     },
     "execution_count": 1,
     "metadata": {},
     "output_type": "execute_result"
    }
   ],
   "source": [
    "type(123)"
   ]
  },
  {
   "cell_type": "code",
   "execution_count": 2,
   "id": "96429f5d",
   "metadata": {},
   "outputs": [
    {
     "data": {
      "text/plain": [
       "float"
      ]
     },
     "execution_count": 2,
     "metadata": {},
     "output_type": "execute_result"
    }
   ],
   "source": [
    "type(123.0)"
   ]
  },
  {
   "cell_type": "code",
   "execution_count": 3,
   "id": "59e02fc9",
   "metadata": {},
   "outputs": [
    {
     "data": {
      "text/plain": [
       "str"
      ]
     },
     "execution_count": 3,
     "metadata": {},
     "output_type": "execute_result"
    }
   ],
   "source": [
    "type('Hello')"
   ]
  },
  {
   "cell_type": "code",
   "execution_count": 4,
   "id": "d02a1a6f",
   "metadata": {},
   "outputs": [
    {
     "data": {
      "text/plain": [
       "bool"
      ]
     },
     "execution_count": 4,
     "metadata": {},
     "output_type": "execute_result"
    }
   ],
   "source": [
    "type(True)"
   ]
  },
  {
   "cell_type": "code",
   "execution_count": 5,
   "id": "7f4deff5",
   "metadata": {},
   "outputs": [
    {
     "data": {
      "text/plain": [
       "str"
      ]
     },
     "execution_count": 5,
     "metadata": {},
     "output_type": "execute_result"
    }
   ],
   "source": [
    "type('True')"
   ]
  },
  {
   "cell_type": "markdown",
   "id": "e66fe575",
   "metadata": {},
   "source": [
    "---\n",
    "\n",
    "## Variables"
   ]
  },
  {
   "cell_type": "markdown",
   "id": "d4c08266",
   "metadata": {},
   "source": [
    "### Assigning a variable\n",
    "\n"
   ]
  },
  {
   "cell_type": "code",
   "execution_count": 6,
   "id": "c988114a",
   "metadata": {},
   "outputs": [],
   "source": [
    "favorite_number = 42\n",
    "n = favorite_number + 7"
   ]
  },
  {
   "cell_type": "code",
   "execution_count": 7,
   "id": "98300c80",
   "metadata": {},
   "outputs": [
    {
     "name": "stdout",
     "output_type": "stream",
     "text": [
      "42\n"
     ]
    }
   ],
   "source": [
    "type(favorite_number)\n",
    "print(favorite_number)"
   ]
  },
  {
   "cell_type": "code",
   "execution_count": 8,
   "id": "c3dfb6f1",
   "metadata": {},
   "outputs": [
    {
     "name": "stdout",
     "output_type": "stream",
     "text": [
      "42\n"
     ]
    }
   ],
   "source": [
    "print(favorite_number)"
   ]
  },
  {
   "cell_type": "code",
   "execution_count": 9,
   "id": "be663daf",
   "metadata": {},
   "outputs": [
    {
     "name": "stdout",
     "output_type": "stream",
     "text": [
      "49\n"
     ]
    }
   ],
   "source": [
    "print(n)"
   ]
  },
  {
   "cell_type": "markdown",
   "id": "becec838",
   "metadata": {},
   "source": [
    "#### Troubleshooting\n",
    "\n",
    "What is the result of the following code?\n",
    "\n",
    "```python\n",
    "a = 6\n",
    "print(a + b)\n",
    "b = 4\n",
    "```\n",
    "\n"
   ]
  },
  {
   "cell_type": "markdown",
   "id": "d85bfe8e",
   "metadata": {},
   "source": [
    "### Updating a variable\n"
   ]
  },
  {
   "cell_type": "code",
   "execution_count": 10,
   "id": "eb69f9e1",
   "metadata": {},
   "outputs": [
    {
     "name": "stdout",
     "output_type": "stream",
     "text": [
      "1\n",
      "2\n",
      "8\n"
     ]
    }
   ],
   "source": [
    "x = 1\n",
    "print (x)\n",
    "# Add 1 to the value of x\n",
    "x = x + 1\n",
    "print (x)\n",
    "x = x * 3 + x\n",
    "print (x)"
   ]
  },
  {
   "cell_type": "code",
   "execution_count": null,
   "id": "ad91ae70",
   "metadata": {},
   "outputs": [],
   "source": []
  },
  {
   "cell_type": "markdown",
   "id": "30cb8a8a",
   "metadata": {},
   "source": [
    "#### Example: Running a cell multiple times"
   ]
  },
  {
   "cell_type": "code",
   "execution_count": 12,
   "id": "a4839155",
   "metadata": {},
   "outputs": [],
   "source": [
    "number = 6"
   ]
  },
  {
   "cell_type": "code",
   "execution_count": 17,
   "id": "96e3598d",
   "metadata": {},
   "outputs": [
    {
     "name": "stdout",
     "output_type": "stream",
     "text": [
      "11\n"
     ]
    }
   ],
   "source": [
    "number = number + 1\n",
    "print(number)"
   ]
  },
  {
   "cell_type": "code",
   "execution_count": null,
   "id": "5a62467e",
   "metadata": {},
   "outputs": [],
   "source": []
  },
  {
   "cell_type": "markdown",
   "id": "69fe5566",
   "metadata": {},
   "source": [
    "## Boolean values\n",
    "\n",
    "\n",
    "There are two Boolean values: `True` and `False`\n",
    "\n",
    "**Note:** A Boolean value is not a string\n",
    "\n",
    "```python\n",
    "type(True)\n",
    "```\n",
    "```\n",
    "bool\n",
    "```\n",
    "\n",
    "```python\n",
    "type('True')\n",
    "```\n",
    "```\n",
    "str\n",
    "```\n",
    "\n"
   ]
  },
  {
   "cell_type": "markdown",
   "id": "4e1e476c",
   "metadata": {},
   "source": [
    "## Comparison operators \n",
    "\n",
    "\n",
    "\n",
    "#### Checks for equality\n",
    "```python\n",
    "==\n",
    "```\n",
    "\n",
    "\n",
    "\n",
    "#### Checks for inequality\n",
    "```python\n",
    "!=\n",
    "```"
   ]
  },
  {
   "cell_type": "code",
   "execution_count": 18,
   "id": "87cd6aaf",
   "metadata": {},
   "outputs": [
    {
     "data": {
      "text/plain": [
       "True"
      ]
     },
     "execution_count": 18,
     "metadata": {},
     "output_type": "execute_result"
    }
   ],
   "source": [
    "True == True"
   ]
  },
  {
   "cell_type": "raw",
   "id": "48abec3c",
   "metadata": {},
   "source": [
    "True == False"
   ]
  },
  {
   "cell_type": "code",
   "execution_count": 19,
   "id": "efa09d7f",
   "metadata": {},
   "outputs": [
    {
     "data": {
      "text/plain": [
       "False"
      ]
     },
     "execution_count": 19,
     "metadata": {},
     "output_type": "execute_result"
    }
   ],
   "source": [
    "True != True"
   ]
  },
  {
   "cell_type": "code",
   "execution_count": 20,
   "id": "667758dc",
   "metadata": {},
   "outputs": [
    {
     "data": {
      "text/plain": [
       "True"
      ]
     },
     "execution_count": 20,
     "metadata": {},
     "output_type": "execute_result"
    }
   ],
   "source": [
    "True != False"
   ]
  },
  {
   "cell_type": "code",
   "execution_count": 21,
   "id": "c47df208",
   "metadata": {},
   "outputs": [
    {
     "data": {
      "text/plain": [
       "True"
      ]
     },
     "execution_count": 21,
     "metadata": {},
     "output_type": "execute_result"
    }
   ],
   "source": [
    "5 == 4 + 1"
   ]
  },
  {
   "cell_type": "code",
   "execution_count": 22,
   "id": "0605f967",
   "metadata": {},
   "outputs": [
    {
     "data": {
      "text/plain": [
       "True"
      ]
     },
     "execution_count": 22,
     "metadata": {},
     "output_type": "execute_result"
    }
   ],
   "source": [
    "5.0 == 5"
   ]
  },
  {
   "cell_type": "code",
   "execution_count": 23,
   "id": "71540866",
   "metadata": {},
   "outputs": [
    {
     "data": {
      "text/plain": [
       "False"
      ]
     },
     "execution_count": 23,
     "metadata": {},
     "output_type": "execute_result"
    }
   ],
   "source": [
    "'Hello' == 'hello'"
   ]
  },
  {
   "cell_type": "code",
   "execution_count": 25,
   "id": "69a4eb04",
   "metadata": {},
   "outputs": [
    {
     "data": {
      "text/plain": [
       "False"
      ]
     },
     "execution_count": 25,
     "metadata": {},
     "output_type": "execute_result"
    }
   ],
   "source": [
    "'Hello' == 'Hello '"
   ]
  },
  {
   "cell_type": "code",
   "execution_count": null,
   "id": "ded39bd7",
   "metadata": {},
   "outputs": [],
   "source": [
    "\n"
   ]
  },
  {
   "cell_type": "markdown",
   "id": "db22b82e",
   "metadata": {},
   "source": [
    "### Examples "
   ]
  },
  {
   "cell_type": "code",
   "execution_count": null,
   "id": "dfa12d91",
   "metadata": {},
   "outputs": [],
   "source": []
  },
  {
   "cell_type": "markdown",
   "id": "0bdf9a97",
   "metadata": {},
   "source": [
    "## Boolean Operators\n",
    "\n",
    "\n",
    "Boolean operators evaluate statements and return a Boolean value.\n",
    "\n",
    "\n",
    "#### `not` statements - also known as a negation\n",
    "\n",
    "\n",
    "Returns the opposite Boolean value\n",
    "\n",
    "| A | not A \n",
    "|:-: | :-:| \n",
    "| T | F |\n",
    "| F | T |\n",
    "\n",
    "\n",
    "\n",
    "For two statements **A** and **B**\n",
    "\n",
    "#### `and` statement - also known as a *conjunction*\n",
    "\n",
    "\n",
    "    \n",
    "    \n",
    "\n",
    "| A | B | A and B\n",
    "|:-: | :-:| :-: | \n",
    "| T | T | T | \n",
    "| T | F | F | \n",
    "| F | T | F | \n",
    "| F | F | F | \n",
    "\n",
    "\n",
    "\n",
    "#### `or` statement - also known as a *disjunction*\n",
    "\n",
    "    \n",
    "\n",
    "| A | B | A or B\n",
    "|:-: | :-:| :-: | \n",
    "| T | T | T | \n",
    "| T | F | T | \n",
    "| F | T | T | \n",
    "| F | F | F | \n",
    "\n",
    "\n"
   ]
  },
  {
   "cell_type": "code",
   "execution_count": 28,
   "id": "ca52d3fd",
   "metadata": {},
   "outputs": [
    {
     "name": "stdout",
     "output_type": "stream",
     "text": [
      "True\n"
     ]
    }
   ],
   "source": [
    "is_first_of_the_month = True\n",
    "report_has_been_sent = False\n",
    "\n",
    "should_process_report = is_first_of_the_month and not report_has_been_sent\n",
    "\n",
    "print(should_process_report)"
   ]
  },
  {
   "cell_type": "code",
   "execution_count": 29,
   "id": "3cf4f961",
   "metadata": {},
   "outputs": [
    {
     "name": "stdout",
     "output_type": "stream",
     "text": [
      "False\n"
     ]
    }
   ],
   "source": [
    "is_first_of_the_month = False\n",
    "report_has_been_sent = False\n",
    "\n",
    "should_process_report = is_first_of_the_month and not report_has_been_sent\n",
    "\n",
    "print(should_process_report)"
   ]
  },
  {
   "cell_type": "markdown",
   "id": "ab85b996",
   "metadata": {},
   "source": [
    "\n",
    "\n",
    "## Numbers\n",
    "\n",
    "Two commonly used number types:\n",
    "\n",
    "\n",
    "`int` - Whole numbers (both positive and negative) and 0\n",
    "\n",
    "`float` - Numbers with decimals\n",
    "\n",
    "####  Arithmetic Operations\n",
    "\n",
    "| Operation      | Operator | Example  |\n",
    "| ---------      | -------- | -------  |\n",
    "| Addition       | `+`      | `4 + 4`  |\n",
    "| Subtraction    | `-`      | `9 - 1`  |\n",
    "| Multiplication | `*`      | `4 * 2`  |\n",
    "| Division       | `/`      | `16 / 2` |\n",
    "| Exponentiation | `**`     | `2 ** 3` |\n",
    "\n",
    "\n",
    "\n",
    "####  Comparison Operations\n",
    "\n",
    "| Operator | Description              | Example  |\n",
    "| -------- | -----------              | -------  |\n",
    "| `==`     | Equal to                 | `1 == 1` |\n",
    "| `!=`     | Not equal to             | `1 != 0` |\n",
    "| `>`      | Greater than             | `1 > 0`  |\n",
    "| `<`      | Less than                | `0 < 1`  |\n",
    "| `>=`     | Greater than or equal to | `1 >= 1` |\n",
    "| `<=`     | Less than or equal to    | `1 <= 1` |\n",
    "\n",
    "\n"
   ]
  },
  {
   "cell_type": "markdown",
   "id": "c41910f7",
   "metadata": {},
   "source": [
    "### Examples"
   ]
  },
  {
   "cell_type": "code",
   "execution_count": 26,
   "id": "04832d7f",
   "metadata": {},
   "outputs": [
    {
     "data": {
      "text/plain": [
       "False"
      ]
     },
     "execution_count": 26,
     "metadata": {},
     "output_type": "execute_result"
    }
   ],
   "source": [
    "5 > 6"
   ]
  },
  {
   "cell_type": "code",
   "execution_count": 27,
   "id": "04e76b0f",
   "metadata": {},
   "outputs": [
    {
     "data": {
      "text/plain": [
       "True"
      ]
     },
     "execution_count": 27,
     "metadata": {},
     "output_type": "execute_result"
    }
   ],
   "source": [
    "5 >= 5"
   ]
  },
  {
   "cell_type": "code",
   "execution_count": null,
   "id": "7e62aecf",
   "metadata": {},
   "outputs": [],
   "source": []
  },
  {
   "cell_type": "markdown",
   "id": "3a5496a8",
   "metadata": {},
   "source": [
    "---\n",
    "## Strings\n",
    "\n",
    "Strings represent text and are enclosed by quotes.\n",
    "\n",
    "\n",
    "\n",
    "```python\n",
    "'A string in single quotes'\n",
    "```\n",
    "\n",
    "\n",
    "\n",
    "```python\n",
    "\"A string in double quotes\"\n",
    "```\n",
    "\n",
    "\n",
    "\n",
    "```python\n",
    "'''A multi-line\n",
    "string in\n",
    "triple quotes'''\n",
    "```\n"
   ]
  },
  {
   "cell_type": "markdown",
   "id": "8360f2f2",
   "metadata": {},
   "source": [
    "### Examples\n",
    "\n"
   ]
  },
  {
   "cell_type": "code",
   "execution_count": 30,
   "id": "0560f2af",
   "metadata": {},
   "outputs": [
    {
     "name": "stdout",
     "output_type": "stream",
     "text": [
      "Here is a single quote --> ' <-- \n",
      "Here is a single quote --> ' <-- \n",
      "\n",
      "Here is a double quote --> \" <--\n",
      "Here is a double quote --> \" <--\n",
      "\n",
      "Newlines are indicated by the character \"n\" preceded by a backslash, like so\n",
      "\n",
      "This string\n",
      "contains a newline\n"
     ]
    }
   ],
   "source": [
    "print('Here is a single quote --> \\' <-- ')\n",
    "print(\"Here is a single quote --> ' <-- \")\n",
    "print()\n",
    "print(\"Here is a double quote --> \\\" <--\")\n",
    "print('Here is a double quote --> \" <--')\n",
    "print()\n",
    "print('Newlines are indicated by the character \"n\" preceded by a backslash, like so')\n",
    "print()\n",
    "print('This string\\ncontains a newline')\n"
   ]
  },
  {
   "cell_type": "code",
   "execution_count": null,
   "id": "76ec8629",
   "metadata": {},
   "outputs": [],
   "source": []
  },
  {
   "cell_type": "markdown",
   "id": "aef02a48",
   "metadata": {},
   "source": [
    "### Operations with strings\n"
   ]
  },
  {
   "cell_type": "code",
   "execution_count": 31,
   "id": "dc2908c2",
   "metadata": {},
   "outputs": [
    {
     "data": {
      "text/plain": [
       "'abcdef ghi'"
      ]
     },
     "execution_count": 31,
     "metadata": {},
     "output_type": "execute_result"
    }
   ],
   "source": [
    "'abc' + 'def ' + 'ghi'"
   ]
  },
  {
   "cell_type": "code",
   "execution_count": 32,
   "id": "2911687a",
   "metadata": {},
   "outputs": [
    {
     "data": {
      "text/plain": [
       "'abcabcabc'"
      ]
     },
     "execution_count": 32,
     "metadata": {},
     "output_type": "execute_result"
    }
   ],
   "source": [
    "'abc' * 3"
   ]
  },
  {
   "cell_type": "code",
   "execution_count": null,
   "id": "9656f222",
   "metadata": {},
   "outputs": [],
   "source": []
  },
  {
   "cell_type": "markdown",
   "id": "fd700c3a",
   "metadata": {},
   "source": [
    "### Examples"
   ]
  },
  {
   "cell_type": "code",
   "execution_count": null,
   "id": "482dd6b8",
   "metadata": {},
   "outputs": [],
   "source": []
  },
  {
   "cell_type": "markdown",
   "id": "43cba2ea",
   "metadata": {},
   "source": [
    "### Formatting strings \n"
   ]
  },
  {
   "cell_type": "code",
   "execution_count": 33,
   "id": "3d22abd5",
   "metadata": {},
   "outputs": [],
   "source": [
    "my_name = 'Corey'"
   ]
  },
  {
   "cell_type": "code",
   "execution_count": 36,
   "id": "1090a317",
   "metadata": {},
   "outputs": [
    {
     "data": {
      "text/plain": [
       "'Hello, Corey! How are you?'"
      ]
     },
     "execution_count": 36,
     "metadata": {},
     "output_type": "execute_result"
    }
   ],
   "source": [
    "'Hello, %s! How are you?' % my_name # %s is placeholder for a string, % variable name will replace it"
   ]
  },
  {
   "cell_type": "code",
   "execution_count": 40,
   "id": "a17cc89e",
   "metadata": {},
   "outputs": [
    {
     "ename": "SyntaxError",
     "evalue": "EOL while scanning string literal (2937839703.py, line 1)",
     "output_type": "error",
     "traceback": [
      "\u001b[0;36m  Input \u001b[0;32mIn [40]\u001b[0;36m\u001b[0m\n\u001b[0;31m    'Hello, {}! format(my_name)\u001b[0m\n\u001b[0m                               ^\u001b[0m\n\u001b[0;31mSyntaxError\u001b[0m\u001b[0;31m:\u001b[0m EOL while scanning string literal\n"
     ]
    }
   ],
   "source": [
    "'Hello, {}! format(my_name)"
   ]
  },
  {
   "cell_type": "code",
   "execution_count": null,
   "id": "f4721de9",
   "metadata": {},
   "outputs": [],
   "source": []
  },
  {
   "cell_type": "markdown",
   "id": "dfdd3a28",
   "metadata": {},
   "source": [
    "### Examples"
   ]
  },
  {
   "cell_type": "code",
   "execution_count": null,
   "id": "690a499a",
   "metadata": {},
   "outputs": [],
   "source": []
  },
  {
   "cell_type": "markdown",
   "id": "56606a97",
   "metadata": {},
   "source": [
    "### String methods"
   ]
  },
  {
   "cell_type": "markdown",
   "id": "8d2ffe5d",
   "metadata": {},
   "source": [
    "A string method does not modify the original string. \n",
    "\n",
    "Assign the result to a new variable or update the string to use the modified string. \n",
    "\n",
    "\n",
    "\n",
    "| Data type | Description |\n",
    "|:-: |----------|\n",
    "| `.lower`|  convert to lower case\n",
    "| `.upper`|  convert to upper case\n",
    "| `.strip`  |  remove leading or trailing whitespace\n",
    "| `.isdigit`|  tests whether a string is a number |\n",
    "| `.split`| converts a string to a list |\n",
    "| `.join`| converts a list to a string\n",
    "\n"
   ]
  },
  {
   "cell_type": "markdown",
   "id": "6e060c17",
   "metadata": {},
   "source": [
    "### Examples"
   ]
  },
  {
   "cell_type": "code",
   "execution_count": 41,
   "id": "c1d18256",
   "metadata": {},
   "outputs": [],
   "source": [
    "s = '      Hello, world!    '"
   ]
  },
  {
   "cell_type": "code",
   "execution_count": 42,
   "id": "02642b28",
   "metadata": {},
   "outputs": [
    {
     "data": {
      "text/plain": [
       "'      hello, world!    '"
      ]
     },
     "execution_count": 42,
     "metadata": {},
     "output_type": "execute_result"
    }
   ],
   "source": [
    "s.lower()"
   ]
  },
  {
   "cell_type": "code",
   "execution_count": 43,
   "id": "3535693f",
   "metadata": {},
   "outputs": [
    {
     "name": "stdout",
     "output_type": "stream",
     "text": [
      "      Hello, world!    \n"
     ]
    }
   ],
   "source": [
    "print(s)  # note the method .lower() doesn't change underlying variable"
   ]
  },
  {
   "cell_type": "code",
   "execution_count": 46,
   "id": "702c0c6d",
   "metadata": {},
   "outputs": [],
   "source": [
    "a = '123'"
   ]
  },
  {
   "cell_type": "code",
   "execution_count": 47,
   "id": "6a7bf2ed",
   "metadata": {},
   "outputs": [
    {
     "data": {
      "text/plain": [
       "True"
      ]
     },
     "execution_count": 47,
     "metadata": {},
     "output_type": "execute_result"
    }
   ],
   "source": [
    "a.isdigit() # useful to see if a string could also represent a number"
   ]
  },
  {
   "cell_type": "code",
   "execution_count": 48,
   "id": "30ac8f7b",
   "metadata": {},
   "outputs": [],
   "source": [
    "b = '123gb' # notice this is false"
   ]
  },
  {
   "cell_type": "code",
   "execution_count": 49,
   "id": "47c56b88",
   "metadata": {},
   "outputs": [
    {
     "data": {
      "text/plain": [
       "False"
      ]
     },
     "execution_count": 49,
     "metadata": {},
     "output_type": "execute_result"
    }
   ],
   "source": [
    "b.isdigit()"
   ]
  },
  {
   "cell_type": "code",
   "execution_count": 51,
   "id": "0d146d2d",
   "metadata": {},
   "outputs": [],
   "source": [
    "c = '123, Main, Street'"
   ]
  },
  {
   "cell_type": "code",
   "execution_count": 52,
   "id": "ded6c0fd",
   "metadata": {},
   "outputs": [
    {
     "data": {
      "text/plain": [
       "['123', 'Main', 'Street']"
      ]
     },
     "execution_count": 52,
     "metadata": {},
     "output_type": "execute_result"
    }
   ],
   "source": [
    "c.split(', ')"
   ]
  },
  {
   "cell_type": "code",
   "execution_count": 53,
   "id": "e5116997",
   "metadata": {},
   "outputs": [],
   "source": [
    "d = '123, Main, Street'"
   ]
  },
  {
   "cell_type": "code",
   "execution_count": 54,
   "id": "0ab66a2d",
   "metadata": {},
   "outputs": [
    {
     "data": {
      "text/plain": [
       "['123', 'main', 'street']"
      ]
     },
     "execution_count": 54,
     "metadata": {},
     "output_type": "execute_result"
    }
   ],
   "source": [
    "d.lower().split(', ')  # can combine methods like this"
   ]
  },
  {
   "cell_type": "code",
   "execution_count": 56,
   "id": "e44805f2",
   "metadata": {},
   "outputs": [
    {
     "data": {
      "text/plain": [
       "'one, two, three'"
      ]
     },
     "execution_count": 56,
     "metadata": {},
     "output_type": "execute_result"
    }
   ],
   "source": [
    "', '.join(['one', 'two', 'three'])  # must feed .join() a list in square brackets"
   ]
  },
  {
   "cell_type": "markdown",
   "id": "834a6bab",
   "metadata": {},
   "source": [
    "---\n",
    "\n",
    "## Lists"
   ]
  },
  {
   "cell_type": "markdown",
   "id": "5d3a6fc1",
   "metadata": {},
   "source": [
    "### Creating a list\n",
    "\n"
   ]
  },
  {
   "cell_type": "code",
   "execution_count": 58,
   "id": "3e8f2a26",
   "metadata": {},
   "outputs": [
    {
     "name": "stdout",
     "output_type": "stream",
     "text": [
      "[1, 2, 3]\n"
     ]
    }
   ],
   "source": [
    "number_list = [1, 2, 3]  # A list with three integers\n",
    "print(number_list)"
   ]
  },
  {
   "cell_type": "code",
   "execution_count": 59,
   "id": "d02834e1",
   "metadata": {},
   "outputs": [],
   "source": [
    "string_list = ['one', 'two', 'three']"
   ]
  },
  {
   "cell_type": "code",
   "execution_count": 60,
   "id": "f76e5a3e",
   "metadata": {},
   "outputs": [
    {
     "data": {
      "text/plain": [
       "['one', 'two', 'three']"
      ]
     },
     "execution_count": 60,
     "metadata": {},
     "output_type": "execute_result"
    }
   ],
   "source": [
    "string_list"
   ]
  },
  {
   "cell_type": "code",
   "execution_count": 61,
   "id": "fe135689",
   "metadata": {},
   "outputs": [],
   "source": [
    "list_of_lists = [[1, 2, 3], [4, 5, 6], [7, 8, 9]]"
   ]
  },
  {
   "cell_type": "markdown",
   "id": "8014f139",
   "metadata": {},
   "source": [
    "### List comprehensions"
   ]
  },
  {
   "cell_type": "code",
   "execution_count": 62,
   "id": "a1c8ecbf",
   "metadata": {},
   "outputs": [
    {
     "data": {
      "text/plain": [
       "[0, 1, 2, 3, 4, 5, 6, 7, 8, 9]"
      ]
     },
     "execution_count": 62,
     "metadata": {},
     "output_type": "execute_result"
    }
   ],
   "source": [
    "[n for n in range(10)]"
   ]
  },
  {
   "cell_type": "code",
   "execution_count": 63,
   "id": "6e132fd9",
   "metadata": {},
   "outputs": [
    {
     "data": {
      "text/plain": [
       "[0, 2, 4, 6, 8, 10, 12, 14, 16, 18]"
      ]
     },
     "execution_count": 63,
     "metadata": {},
     "output_type": "execute_result"
    }
   ],
   "source": [
    "[n * 2 for n in range(10)]"
   ]
  },
  {
   "cell_type": "code",
   "execution_count": 64,
   "id": "0f90375b",
   "metadata": {},
   "outputs": [
    {
     "data": {
      "text/plain": [
       "[0, 4, 8, 12, 16]"
      ]
     },
     "execution_count": 64,
     "metadata": {},
     "output_type": "execute_result"
    }
   ],
   "source": [
    "[n * 2 for n in range(10) if n % 2 == 0]"
   ]
  },
  {
   "cell_type": "code",
   "execution_count": null,
   "id": "7b9999da",
   "metadata": {},
   "outputs": [],
   "source": []
  },
  {
   "cell_type": "code",
   "execution_count": null,
   "id": "3f02757e",
   "metadata": {},
   "outputs": [],
   "source": []
  },
  {
   "cell_type": "markdown",
   "id": "f8ec2026",
   "metadata": {},
   "source": [
    "### List Operations"
   ]
  },
  {
   "cell_type": "code",
   "execution_count": 75,
   "id": "7e836101",
   "metadata": {},
   "outputs": [],
   "source": [
    "numbers = [1, 2, 3]"
   ]
  },
  {
   "cell_type": "code",
   "execution_count": 76,
   "id": "9dc381a3",
   "metadata": {},
   "outputs": [
    {
     "data": {
      "text/plain": [
       "[1, 2, 3, 4]"
      ]
     },
     "execution_count": 76,
     "metadata": {},
     "output_type": "execute_result"
    }
   ],
   "source": [
    "## Add 4 to the list\n",
    "numbers.append(4)  ## these are not methods because they do change the underlying object\n",
    "numbers"
   ]
  },
  {
   "cell_type": "code",
   "execution_count": 77,
   "id": "5d3ffd93",
   "metadata": {},
   "outputs": [
    {
     "data": {
      "text/plain": [
       "4"
      ]
     },
     "execution_count": 77,
     "metadata": {},
     "output_type": "execute_result"
    }
   ],
   "source": [
    "numbers.pop()"
   ]
  },
  {
   "cell_type": "code",
   "execution_count": 78,
   "id": "a9dfc871",
   "metadata": {},
   "outputs": [
    {
     "data": {
      "text/plain": [
       "3"
      ]
     },
     "execution_count": 78,
     "metadata": {},
     "output_type": "execute_result"
    }
   ],
   "source": [
    "len(numbers)"
   ]
  },
  {
   "cell_type": "code",
   "execution_count": 79,
   "id": "5cc0d848",
   "metadata": {},
   "outputs": [
    {
     "data": {
      "text/plain": [
       "3"
      ]
     },
     "execution_count": 79,
     "metadata": {},
     "output_type": "execute_result"
    }
   ],
   "source": [
    "## Indexing. Here we are specifying the third item in list. Python counts from zero.\n",
    "\n",
    "numbers[2]"
   ]
  },
  {
   "cell_type": "code",
   "execution_count": 80,
   "id": "6c73e4da",
   "metadata": {},
   "outputs": [
    {
     "data": {
      "text/plain": [
       "[1, 2]"
      ]
     },
     "execution_count": 80,
     "metadata": {},
     "output_type": "execute_result"
    }
   ],
   "source": [
    "numbers[:2]"
   ]
  },
  {
   "cell_type": "code",
   "execution_count": 81,
   "id": "10e8aab3",
   "metadata": {},
   "outputs": [],
   "source": [
    "letters = ['a', 'b', 'c', 'd', 'e']"
   ]
  },
  {
   "cell_type": "code",
   "execution_count": 82,
   "id": "4a5a8273",
   "metadata": {},
   "outputs": [
    {
     "data": {
      "text/plain": [
       "5"
      ]
     },
     "execution_count": 82,
     "metadata": {},
     "output_type": "execute_result"
    }
   ],
   "source": [
    "len(letters)"
   ]
  },
  {
   "cell_type": "code",
   "execution_count": 84,
   "id": "53a36096",
   "metadata": {},
   "outputs": [
    {
     "data": {
      "text/plain": [
       "['a', 'b']"
      ]
     },
     "execution_count": 84,
     "metadata": {},
     "output_type": "execute_result"
    }
   ],
   "source": [
    "letters[:2]  ## this 'slice' retrieves from the beginning\n",
    "## of list up to but not including the third element."
   ]
  },
  {
   "cell_type": "code",
   "execution_count": 85,
   "id": "dc13be67",
   "metadata": {},
   "outputs": [
    {
     "data": {
      "text/plain": [
       "['b', 'c']"
      ]
     },
     "execution_count": 85,
     "metadata": {},
     "output_type": "execute_result"
    }
   ],
   "source": [
    "letters[1:3] ## left side of slice is inclusive, the right is not -- so this retrieves \n",
    "## the second and third elements of the list"
   ]
  },
  {
   "cell_type": "code",
   "execution_count": 86,
   "id": "0dad4280",
   "metadata": {},
   "outputs": [
    {
     "data": {
      "text/plain": [
       "['b', 'c', 'd', 'e']"
      ]
     },
     "execution_count": 86,
     "metadata": {},
     "output_type": "execute_result"
    }
   ],
   "source": [
    "letters[1:]"
   ]
  },
  {
   "cell_type": "code",
   "execution_count": 87,
   "id": "3c8e770f",
   "metadata": {},
   "outputs": [
    {
     "data": {
      "text/plain": [
       "['a', ' ', 'b', 'c', ' ', 'd', 'e']"
      ]
     },
     "execution_count": 87,
     "metadata": {},
     "output_type": "execute_result"
    }
   ],
   "source": [
    "list('a bc de') ## convertring to a list"
   ]
  },
  {
   "cell_type": "code",
   "execution_count": 88,
   "id": "b0b47601",
   "metadata": {},
   "outputs": [
    {
     "data": {
      "text/plain": [
       "[0, 1, 2, 3, 4, 5, 6, 7, 8, 9]"
      ]
     },
     "execution_count": 88,
     "metadata": {},
     "output_type": "execute_result"
    }
   ],
   "source": [
    "# Make a list from 0 to 9\n",
    "list(range(10))"
   ]
  },
  {
   "cell_type": "code",
   "execution_count": 90,
   "id": "73aad836",
   "metadata": {},
   "outputs": [
    {
     "data": {
      "text/plain": [
       "['1', '2', '3']"
      ]
     },
     "execution_count": 90,
     "metadata": {},
     "output_type": "execute_result"
    }
   ],
   "source": [
    "my_numbers = [1, 2, 3]\n",
    "\n",
    "list(map(str, my_numbers))"
   ]
  },
  {
   "cell_type": "code",
   "execution_count": 91,
   "id": "b887e71e",
   "metadata": {},
   "outputs": [
    {
     "data": {
      "text/plain": [
       "'[1, 2, 3]'"
      ]
     },
     "execution_count": 91,
     "metadata": {},
     "output_type": "execute_result"
    }
   ],
   "source": [
    "str(my_numbers) # if we apply str to a list, it makes a string of the whole list"
   ]
  },
  {
   "cell_type": "markdown",
   "id": "9d85e9cf",
   "metadata": {},
   "source": [
    "---\n",
    "\n",
    "## Tuples"
   ]
  },
  {
   "cell_type": "code",
   "execution_count": 92,
   "id": "b41502ed",
   "metadata": {},
   "outputs": [],
   "source": [
    "my_tuple = (1, 2, 3)"
   ]
  },
  {
   "cell_type": "code",
   "execution_count": 93,
   "id": "a626cd83",
   "metadata": {},
   "outputs": [
    {
     "data": {
      "text/plain": [
       "tuple"
      ]
     },
     "execution_count": 93,
     "metadata": {},
     "output_type": "execute_result"
    }
   ],
   "source": [
    "type(my_tuple)"
   ]
  },
  {
   "cell_type": "code",
   "execution_count": 94,
   "id": "7ca91de6",
   "metadata": {},
   "outputs": [
    {
     "data": {
      "text/plain": [
       "2"
      ]
     },
     "execution_count": 94,
     "metadata": {},
     "output_type": "execute_result"
    }
   ],
   "source": [
    "my_tuple[1]"
   ]
  },
  {
   "cell_type": "markdown",
   "id": "5380a52b",
   "metadata": {},
   "source": [
    "\n",
    "---\n",
    "\n",
    "## Dictionaries"
   ]
  },
  {
   "cell_type": "code",
   "execution_count": 95,
   "id": "f0025b56",
   "metadata": {},
   "outputs": [],
   "source": [
    "my_dictionary = {\n",
    "    'name' : 'Codeup',\n",
    "    'age'  : 9\n",
    "    \n",
    "}"
   ]
  },
  {
   "cell_type": "code",
   "execution_count": 96,
   "id": "2be6bf7d",
   "metadata": {},
   "outputs": [
    {
     "data": {
      "text/plain": [
       "{'name': 'Codeup', 'age': 9}"
      ]
     },
     "execution_count": 96,
     "metadata": {},
     "output_type": "execute_result"
    }
   ],
   "source": [
    "dict(name = 'Codeup', age = 9)  # this produces the same dict as the previous block"
   ]
  },
  {
   "cell_type": "code",
   "execution_count": null,
   "id": "5145081b",
   "metadata": {},
   "outputs": [],
   "source": []
  },
  {
   "cell_type": "markdown",
   "id": "49bd9070",
   "metadata": {},
   "source": [
    "### Creating a dictionary "
   ]
  },
  {
   "cell_type": "code",
   "execution_count": 97,
   "id": "13b47117",
   "metadata": {},
   "outputs": [],
   "source": [
    "my_new_dict = dict(name = 'Codeup', age = 9)"
   ]
  },
  {
   "cell_type": "code",
   "execution_count": 98,
   "id": "9459da2a",
   "metadata": {},
   "outputs": [
    {
     "data": {
      "text/plain": [
       "{'name': 'Codeup', 'age': 9}"
      ]
     },
     "execution_count": 98,
     "metadata": {},
     "output_type": "execute_result"
    }
   ],
   "source": [
    "my_new_dict"
   ]
  },
  {
   "cell_type": "markdown",
   "id": "d3bc3500",
   "metadata": {},
   "source": [
    "### Accessing dictionary values"
   ]
  },
  {
   "cell_type": "code",
   "execution_count": 99,
   "id": "1d9f49a2",
   "metadata": {},
   "outputs": [],
   "source": [
    "school = dict(name = 'Codeup', age = 9)"
   ]
  },
  {
   "cell_type": "code",
   "execution_count": 100,
   "id": "59dc40bf",
   "metadata": {},
   "outputs": [
    {
     "data": {
      "text/plain": [
       "'Codeup'"
      ]
     },
     "execution_count": 100,
     "metadata": {},
     "output_type": "execute_result"
    }
   ],
   "source": [
    "school['name'] # we retrieve a dict entry by using dict name and the ['key']"
   ]
  },
  {
   "cell_type": "code",
   "execution_count": 101,
   "id": "46278fcc",
   "metadata": {},
   "outputs": [],
   "source": [
    "my_new_dictionary = {\n",
    "    \n",
    "    9 : 'age',\n",
    "    \n",
    "}"
   ]
  },
  {
   "cell_type": "code",
   "execution_count": 102,
   "id": "71742140",
   "metadata": {},
   "outputs": [
    {
     "data": {
      "text/plain": [
       "'age'"
      ]
     },
     "execution_count": 102,
     "metadata": {},
     "output_type": "execute_result"
    }
   ],
   "source": [
    "my_new_dictionary[9]"
   ]
  },
  {
   "cell_type": "code",
   "execution_count": 103,
   "id": "826d7477",
   "metadata": {},
   "outputs": [],
   "source": [
    "school['age'] += 1 # dictionaries can be updated!"
   ]
  },
  {
   "cell_type": "code",
   "execution_count": null,
   "id": "376b77ed",
   "metadata": {},
   "outputs": [],
   "source": [
    "# Take the value of 'age'\n",
    "# Add 1\n",
    "# Update the dictionary"
   ]
  },
  {
   "cell_type": "code",
   "execution_count": 104,
   "id": "c658176f",
   "metadata": {},
   "outputs": [
    {
     "data": {
      "text/plain": [
       "{'name': 'Codeup', 'age': 10}"
      ]
     },
     "execution_count": 104,
     "metadata": {},
     "output_type": "execute_result"
    }
   ],
   "source": [
    "school"
   ]
  },
  {
   "cell_type": "markdown",
   "id": "bc98e720",
   "metadata": {},
   "source": [
    "## Changing data types\n",
    "\n",
    "```python\n",
    "int()\n",
    "```\n",
    "\n",
    "```python\n",
    "str()\n",
    "```\n",
    "\n"
   ]
  },
  {
   "cell_type": "markdown",
   "id": "c7d4d25b",
   "metadata": {},
   "source": [
    "### Examples"
   ]
  },
  {
   "cell_type": "code",
   "execution_count": 105,
   "id": "ab0d864a",
   "metadata": {},
   "outputs": [
    {
     "data": {
      "text/plain": [
       "int"
      ]
     },
     "execution_count": 105,
     "metadata": {},
     "output_type": "execute_result"
    }
   ],
   "source": [
    "a = 3\n",
    "type(a)"
   ]
  },
  {
   "cell_type": "code",
   "execution_count": 106,
   "id": "69e976b1",
   "metadata": {},
   "outputs": [
    {
     "data": {
      "text/plain": [
       "'3'"
      ]
     },
     "execution_count": 106,
     "metadata": {},
     "output_type": "execute_result"
    }
   ],
   "source": [
    "str(a)"
   ]
  },
  {
   "cell_type": "code",
   "execution_count": 108,
   "id": "d8045eaf",
   "metadata": {},
   "outputs": [
    {
     "data": {
      "text/plain": [
       "int"
      ]
     },
     "execution_count": 108,
     "metadata": {},
     "output_type": "execute_result"
    }
   ],
   "source": [
    "b = '6'\n",
    "b = int(b)\n",
    "type(b)"
   ]
  },
  {
   "cell_type": "code",
   "execution_count": null,
   "id": "0ded5f2f",
   "metadata": {},
   "outputs": [],
   "source": []
  },
  {
   "cell_type": "code",
   "execution_count": null,
   "id": "d2f8f16f",
   "metadata": {},
   "outputs": [],
   "source": []
  },
  {
   "cell_type": "markdown",
   "id": "fe642f3d",
   "metadata": {},
   "source": [
    "### Getting user input with `input`\n",
    "\n",
    "```python\n",
    "name = input('What is your name?')\n",
    "print(name)\n",
    "```"
   ]
  },
  {
   "cell_type": "code",
   "execution_count": 109,
   "id": "68a980f9",
   "metadata": {},
   "outputs": [
    {
     "name": "stdout",
     "output_type": "stream",
     "text": [
      "What is your name Corey\n"
     ]
    }
   ],
   "source": [
    "name = input('What is your name ')"
   ]
  },
  {
   "cell_type": "code",
   "execution_count": 110,
   "id": "2e7fdd07",
   "metadata": {},
   "outputs": [
    {
     "data": {
      "text/plain": [
       "'Hello, Corey!'"
      ]
     },
     "execution_count": 110,
     "metadata": {},
     "output_type": "execute_result"
    }
   ],
   "source": [
    "f'Hello, {name}!'"
   ]
  },
  {
   "cell_type": "code",
   "execution_count": 111,
   "id": "81ef9e47",
   "metadata": {},
   "outputs": [
    {
     "name": "stdout",
     "output_type": "stream",
     "text": [
      "What is the first number? 4\n",
      "What is the second number? 3\n"
     ]
    }
   ],
   "source": [
    "first_number = int(input('What is the first number? '))\n",
    "second_number = int(input('What is the second number? '))"
   ]
  },
  {
   "cell_type": "code",
   "execution_count": null,
   "id": "8a3a3944",
   "metadata": {},
   "outputs": [],
   "source": []
  }
 ],
 "metadata": {
  "kernelspec": {
   "display_name": "Python 3 (ipykernel)",
   "language": "python",
   "name": "python3"
  },
  "language_info": {
   "codemirror_mode": {
    "name": "ipython",
    "version": 3
   },
   "file_extension": ".py",
   "mimetype": "text/x-python",
   "name": "python",
   "nbconvert_exporter": "python",
   "pygments_lexer": "ipython3",
   "version": "3.9.13"
  }
 },
 "nbformat": 4,
 "nbformat_minor": 5
}
