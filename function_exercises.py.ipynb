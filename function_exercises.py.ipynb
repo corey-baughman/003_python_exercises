{
 "cells": [
  {
   "cell_type": "code",
   "execution_count": 21,
   "id": "d038f37e",
   "metadata": {},
   "outputs": [],
   "source": [
    "# 1. Define a function named is_two. It should accept one input and return True\n",
    "    # if the passed input is either the number or the string 2, False otherwise.\n",
    "    \n",
    "def is_two(x):\n",
    "    '''\n",
    "    takes in a number or a string and return True if:\n",
    "    it is 2, or '2', or 'two', or 'Two', or 'TWO'\n",
    "    '''\n",
    "    if x == 2 or x == '2' or x == 'two' or x == 'Two' or x == 'TWO':\n",
    "        return True\n",
    "    else:\n",
    "        return False"
   ]
  },
  {
   "cell_type": "code",
   "execution_count": 57,
   "id": "cae836d3",
   "metadata": {},
   "outputs": [],
   "source": [
    "# 2. Define a function named is_vowel. \n",
    "    #It should return True if the passed string is a vowel, False otherwise.\n",
    "    \n",
    "def is_vowel():\n",
    "    '''\n",
    "    takes in a letter and returns true if the letter is 'a' or 'e' or 'i' or 'o' or 'u'\n",
    "    or their capitalized versions.\n",
    "    '''\n",
    "    letter = input(\"Type a letter here to check if it is a vowel: \")\n",
    "    if letter.isdigit():\n",
    "        print(\"That's a digit Gidgit. Please use a LETTER with this function\")\n",
    "        return False\n",
    "    if letter.isalpha():\n",
    "        print(\"That's a letter, alright. But is it a vowel?\")\n",
    "        if letter.lower() == 'a'\\\n",
    "        or letter.lower() == 'e'\\\n",
    "        or letter.lower() == 'i'\\\n",
    "        or letter.lower() == 'o'\\\n",
    "        or letter.lower() == 'u':\n",
    "            print(\"Yessir 'tis. You're smart like a kindergartner!\")\n",
    "            return True\n",
    "        else:\n",
    "            print(\"A vowel it is not.\")\n",
    "            return False\n",
    "    else:\n",
    "        print(\"That's neither letter, nor number. What rock are you under?\")\n",
    "        return False\n",
    "\n",
    "    \n",
    "    \n",
    "    \n",
    "    "
   ]
  },
  {
   "cell_type": "code",
   "execution_count": 58,
   "id": "dc8c068e",
   "metadata": {},
   "outputs": [
    {
     "name": "stdout",
     "output_type": "stream",
     "text": [
      "Type a letter here to check if it is a vowel: r\n",
      "That's a letter, alright. But is it a vowel?\n",
      "A vowel it is not.\n"
     ]
    },
    {
     "data": {
      "text/plain": [
       "False"
      ]
     },
     "execution_count": 58,
     "metadata": {},
     "output_type": "execute_result"
    }
   ],
   "source": [
    "is_vowel()"
   ]
  },
  {
   "cell_type": "code",
   "execution_count": 35,
   "id": "2113b7ff",
   "metadata": {},
   "outputs": [
    {
     "data": {
      "text/plain": [
       "True"
      ]
     },
     "execution_count": 35,
     "metadata": {},
     "output_type": "execute_result"
    }
   ],
   "source": [
    "'B'.isalpha()"
   ]
  },
  {
   "cell_type": "code",
   "execution_count": 67,
   "id": "f24fc243",
   "metadata": {},
   "outputs": [],
   "source": [
    "# 3. Define a function named is_consonant. \n",
    "    # It should return True if the passed string is a consonant, False otherwise. \n",
    "    # Use your is_vowel function to accomplish this.\n",
    "    \n",
    "def is_consonant():\n",
    "    '''\n",
    "    takes in a letter and returns true if the letter is not 'a' or 'e' or 'i' or 'o' or 'u'\n",
    "    or their capitalized versions.\n",
    "    '''\n",
    "    letter = input(\"Type a letter here to check if it is a consonant: \")\n",
    "    if letter.isdigit():\n",
    "        print(\"That's a digit Gidgit. Please use a LETTER with this function\")\n",
    "        return False\n",
    "    if letter.isalpha():\n",
    "        print(\"That's a letter, alright. But is it a consonant?\")\n",
    "        if letter.lower() != 'a'\\\n",
    "        and letter.lower() != 'e'\\\n",
    "        and letter.lower() != 'i'\\\n",
    "        and letter.lower() != 'o'\\\n",
    "        and letter.lower() != 'u':\n",
    "            print(\"Yessir 'tis. You're smart like a kindergartner!\")\n",
    "            return True\n",
    "        else:\n",
    "            print(\"Doh! A consonant that is not.\")\n",
    "            return False\n",
    "    else:\n",
    "        print(\"That's neither letter, nor number. What rock are you under?\")\n",
    "        return False\n"
   ]
  },
  {
   "cell_type": "code",
   "execution_count": 75,
   "id": "c0c1fcfc",
   "metadata": {},
   "outputs": [
    {
     "name": "stdout",
     "output_type": "stream",
     "text": [
      "Type a letter here to check if it is a consonant: B\n",
      "That's a letter, alright. But is it a consonant?\n",
      "Yessir 'tis. You're smart like a kindergartner!\n"
     ]
    },
    {
     "data": {
      "text/plain": [
       "True"
      ]
     },
     "execution_count": 75,
     "metadata": {},
     "output_type": "execute_result"
    }
   ],
   "source": [
    "is_consonant()"
   ]
  },
  {
   "cell_type": "code",
   "execution_count": 94,
   "id": "ebfa8bc3",
   "metadata": {},
   "outputs": [],
   "source": [
    "# 4. Define a function that accepts a string that is a word. \n",
    "    # The function should capitalize the first letter of the word \n",
    "    # if the word starts with a consonant.\n",
    "    \n",
    "def cap_first_consonant(string):\n",
    "    '''\n",
    "    takes in a string and capitalizes the first letter if that letter is a consonant\n",
    "    '''\n",
    "    if string[0].lower() != 'a'\\\n",
    "    and string[0].lower() != 'e'\\\n",
    "    and string[0].lower() != 'i'\\\n",
    "    and string[0].lower() != 'o'\\\n",
    "    and string[0].lower() != 'u':\n",
    "        return string[0].upper() + string[1:]\n",
    "    else:\n",
    "        return string"
   ]
  },
  {
   "cell_type": "code",
   "execution_count": 95,
   "id": "6419d42b",
   "metadata": {},
   "outputs": [
    {
     "data": {
      "text/plain": [
       "'else'"
      ]
     },
     "execution_count": 95,
     "metadata": {},
     "output_type": "execute_result"
    }
   ],
   "source": [
    "cap_first_consonant('else')"
   ]
  },
  {
   "cell_type": "code",
   "execution_count": 99,
   "id": "7b355945",
   "metadata": {},
   "outputs": [],
   "source": [
    "# 5. Define a function named calculate_tip. \n",
    "    # It should accept a tip percentage (a number between 0 and 1) \n",
    "    # and the bill total, and return the amount to tip.\n",
    "    \n",
    "def calculate_tip(tip_percentage_as_decimal, bill_total_without_tip):\n",
    "    '''\n",
    "    input the tip percentage as a decimal (between 0 and 1)\n",
    "    then a comma then the total bill before tip. The function\n",
    "    will output the tip amount and total bill with tip included\n",
    "    '''\n",
    "\n",
    "    tip_amount = round((tip_percentage_as_decimal * bill_total_without_tip), 2)\n",
    "    total_bill_with_tip = bill_total_without_tip + tip_amount\n",
    "    print('Amount to tip, Total bill with tip: ')\n",
    "    return tip_amount, total_bill_with_tip"
   ]
  },
  {
   "cell_type": "code",
   "execution_count": 100,
   "id": "68335bd3",
   "metadata": {},
   "outputs": [
    {
     "name": "stdout",
     "output_type": "stream",
     "text": [
      "Amount to tip, Total bill with tip: \n"
     ]
    },
    {
     "data": {
      "text/plain": [
       "(10.1, 60.6)"
      ]
     },
     "execution_count": 100,
     "metadata": {},
     "output_type": "execute_result"
    }
   ],
   "source": [
    "calculate_tip(.2, 50.50)"
   ]
  },
  {
   "cell_type": "code",
   "execution_count": null,
   "id": "56354e64",
   "metadata": {},
   "outputs": [],
   "source": []
  },
  {
   "cell_type": "code",
   "execution_count": 104,
   "id": "45925352",
   "metadata": {},
   "outputs": [],
   "source": [
    "# 6. Define a function named apply_discount. \n",
    "    # It should accept a original price, and a discount percentage, \n",
    "    # and return the price after the discount is applied.\n",
    "    \n",
    "def apply_discount(original_price, discount_percentage):\n",
    "    '''\n",
    "    input the original item price then a comma then the discount as a percentage.\n",
    "    Function will return the discounted item price.'''\n",
    "    \n",
    "    print('Discounted Price: ')\n",
    "    return round((original_price - original_price * (discount_percentage / 100)))"
   ]
  },
  {
   "cell_type": "code",
   "execution_count": 105,
   "id": "fd481e48",
   "metadata": {},
   "outputs": [
    {
     "name": "stdout",
     "output_type": "stream",
     "text": [
      "Discounted Price: \n"
     ]
    },
    {
     "data": {
      "text/plain": [
       "16"
      ]
     },
     "execution_count": 105,
     "metadata": {},
     "output_type": "execute_result"
    }
   ],
   "source": [
    "apply_discount(20, 20)"
   ]
  },
  {
   "cell_type": "code",
   "execution_count": 123,
   "id": "8b44af34",
   "metadata": {},
   "outputs": [],
   "source": [
    "# 7. Define a function named handle_commas. \n",
    "    # It should accept a string that is a number that contains commas in it as input, \n",
    "    # and return a number as output.\n",
    "    \n",
    "def handle_commas(number_with_commas):\n",
    "    '''\n",
    "    Input a number AS A STRING with commas and returns the number without commas\n",
    "    '''\n",
    "    return float(number_with_commas.replace(',', ''))\n",
    "    "
   ]
  },
  {
   "cell_type": "code",
   "execution_count": 125,
   "id": "9d48bf80",
   "metadata": {},
   "outputs": [
    {
     "data": {
      "text/plain": [
       "1000000000.0"
      ]
     },
     "execution_count": 125,
     "metadata": {},
     "output_type": "execute_result"
    }
   ],
   "source": [
    "handle_commas('1000000000')"
   ]
  },
  {
   "cell_type": "code",
   "execution_count": 127,
   "id": "c7b3ec37",
   "metadata": {},
   "outputs": [],
   "source": [
    "# 8. Define a function named get_letter_grade. \n",
    "    # It should accept a number and return the letter \n",
    "    # grade associated with that number (A-F).\n",
    "    \n",
    "def get_letter_grade(percentage_grade):\n",
    "    '''\n",
    "    Input a percentage grade between 0 and 100 and function returns\n",
    "    a letter grade \"A\" for 90-100, \"B\" for 80 up to but not including 90,\n",
    "    \"C\" for 70 up to but not including 80, and \"F\" for less than 70.'''\n",
    "    \n",
    "    if percentage_grade >= 90:\n",
    "        return \"A\"\n",
    "    elif percentage_grade >= 80:\n",
    "        return \"B\"\n",
    "    elif percentage_grade >= 70:\n",
    "        return \"C\"\n",
    "    else:\n",
    "        return \"F\"\n",
    "    "
   ]
  },
  {
   "cell_type": "code",
   "execution_count": 128,
   "id": "1b29c81d",
   "metadata": {},
   "outputs": [
    {
     "data": {
      "text/plain": [
       "'B'"
      ]
     },
     "execution_count": 128,
     "metadata": {},
     "output_type": "execute_result"
    }
   ],
   "source": [
    "get_letter_grade(82)"
   ]
  },
  {
   "cell_type": "code",
   "execution_count": 120,
   "id": "81fcc637",
   "metadata": {},
   "outputs": [],
   "source": [
    "# 9. Define a function named remove_vowels that accepts a \n",
    "    # string and returns a string with all the vowels removed.\n",
    "    \n"
   ]
  },
  {
   "cell_type": "code",
   "execution_count": null,
   "id": "8a4bef3c",
   "metadata": {},
   "outputs": [],
   "source": [
    "# 10. Define a function named normalize_name. \n",
    "    # It should accept a string and return a valid python identifier, that is:\n",
    "        # anything that is not a valid python identifier should be removed\n",
    "        # leading and trailing whitespace should be removed\n",
    "        # everything should be lowercase\n",
    "        # spaces should be replaced with underscores\n",
    "        # for example:\n",
    "            # Name will become name\n",
    "            # First Name will become first_name\n",
    "            # % Completed will become completed\n",
    "        \n",
    "def normalize_name(string): \n",
    "    \n"
   ]
  },
  {
   "cell_type": "code",
   "execution_count": null,
   "id": "03933723",
   "metadata": {},
   "outputs": [],
   "source": [
    "# 11. Write a function named cumulative_sum that accepts a list of numbers \n",
    "    # and returns a list that is the cumulative sum of the numbers in the list.\n",
    "        # cumulative_sum([1, 1, 1]) returns [1, 2, 3]\n",
    "        # cumulative_sum([1, 2, 3, 4]) returns [1, 3, 6, 10]"
   ]
  }
 ],
 "metadata": {
  "kernelspec": {
   "display_name": "Python 3 (ipykernel)",
   "language": "python",
   "name": "python3"
  },
  "language_info": {
   "codemirror_mode": {
    "name": "ipython",
    "version": 3
   },
   "file_extension": ".py",
   "mimetype": "text/x-python",
   "name": "python",
   "nbconvert_exporter": "python",
   "pygments_lexer": "ipython3",
   "version": "3.9.13"
  }
 },
 "nbformat": 4,
 "nbformat_minor": 5
}
